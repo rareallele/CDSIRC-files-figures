{
 "cells": [
  {
   "cell_type": "code",
   "execution_count": 2,
   "id": "b652de65-81f1-4ffd-ad04-c8bcd1238253",
   "metadata": {},
   "outputs": [],
   "source": [
    "import pandas as pd"
   ]
  },
  {
   "cell_type": "code",
   "execution_count": 6,
   "id": "e5830ba1-50a2-4d0f-b1ac-4c674c3ee43a",
   "metadata": {},
   "outputs": [],
   "source": [
    "exclusions = pd.read_excel(\"C:\\\\Users\\\\jagvan\\\\OneDrive - South Australia Government\\\\Code\\\\exclusions_2021.xlsx\")\n",
    "data = pd.read_csv(\"data.csv\")\n",
    "data = data[~data[\"Case Number\"].isin(exclusions)]"
   ]
  },
  {
   "cell_type": "code",
   "execution_count": 9,
   "id": "64ea6bc7-20a0-49bf-8f25-9eba961f377a",
   "metadata": {},
   "outputs": [],
   "source": [
    "disability = data.query('`Disability Register` == \"Yes\"')"
   ]
  },
  {
   "cell_type": "code",
   "execution_count": null,
   "id": "1b9bfc44",
   "metadata": {},
   "outputs": [],
   "source": [
    "disability.groupby()\n",
    "print()"
   ]
  }
 ],
 "metadata": {
  "kernelspec": {
   "display_name": "Python 3 (ipykernel)",
   "language": "python",
   "name": "python3"
  },
  "language_info": {
   "codemirror_mode": {
    "name": "ipython",
    "version": 3
   },
   "file_extension": ".py",
   "mimetype": "text/x-python",
   "name": "python",
   "nbconvert_exporter": "python",
   "pygments_lexer": "ipython3",
   "version": "3.10.1"
  }
 },
 "nbformat": 4,
 "nbformat_minor": 5
}
